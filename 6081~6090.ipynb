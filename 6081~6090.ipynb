{
 "cells": [
  {
   "cell_type": "code",
   "execution_count": 38,
   "id": "0b651d53-5a19-4f1b-87d2-7ef9497f06e2",
   "metadata": {},
   "outputs": [
    {
     "name": "stdin",
     "output_type": "stream",
     "text": [
      " B\n"
     ]
    },
    {
     "name": "stdout",
     "output_type": "stream",
     "text": [
      "B*1=B\n",
      "B*2=16\n",
      "B*3=21\n",
      "B*4=2C\n",
      "B*5=37\n",
      "B*6=42\n",
      "B*7=4D\n",
      "B*8=58\n",
      "B*9=63\n",
      "B*A=6E\n",
      "B*B=79\n",
      "B*C=84\n",
      "B*D=8F\n",
      "B*E=9A\n",
      "B*F=A5\n"
     ]
    }
   ],
   "source": [
    "#6081\n",
    "n = int(input(),16)\n",
    "for i in range (1,16):\n",
    "    print(\"%X*%X=%X\"%(n,i,n*i))"
   ]
  },
  {
   "cell_type": "code",
   "execution_count": 62,
   "id": "62c71fd1-b907-44db-b836-fbda54c18e28",
   "metadata": {},
   "outputs": [
    {
     "name": "stdin",
     "output_type": "stream",
     "text": [
      " B\n"
     ]
    },
    {
     "name": "stdout",
     "output_type": "stream",
     "text": [
      "0xb*0x1=0xb\n",
      "0xb*0x2=0x16\n",
      "0xb*0x3=0x21\n",
      "0xb*0x4=0x2c\n",
      "0xb*0x5=0x37\n",
      "0xb*0x6=0x42\n",
      "0xb*0x7=0x4d\n",
      "0xb*0x8=0x58\n",
      "0xb*0x9=0x63\n",
      "0xb*0xa=0x6e\n",
      "0xb*0xb=0x79\n",
      "0xb*0xc=0x84\n",
      "0xb*0xd=0x8f\n",
      "0xb*0xe=0x9a\n",
      "0xb*0xf=0xa5\n"
     ]
    }
   ],
   "source": [
    "n = int(input(),16)\n",
    "for i in range (1,16):\n",
    "    print(f'{hex(n)}*{hex(i)}={hex(n*i)}')"
   ]
  },
  {
   "cell_type": "code",
   "execution_count": 5,
   "id": "5a07d8df-246e-483a-b38d-f058419e6087",
   "metadata": {},
   "outputs": [
    {
     "name": "stdin",
     "output_type": "stream",
     "text": [
      " 33\n"
     ]
    },
    {
     "name": "stdout",
     "output_type": "stream",
     "text": [
      "1 2 X 4 5 X 7 8 X 10 11 12 X 14 15 X 17 18 X 20 21 22 X 24 25 X 27 28 X 30 31 32 X "
     ]
    }
   ],
   "source": [
    "#6082\n",
    "input_num =  int(input())\n",
    "for num in range(1,input_num+1):\n",
    "    #맨 앞의 자리가 3,6,9 이면 X 출력\n",
    "    if len(str(num))==1 and (str(num)[0]=='3' or str(num)[0]=='6' or str(num)[0]=='9') :\n",
    "        print('X',end=' ')\n",
    "    #두자리수 중 일의자리수가 3,6,9이면 X 출력\n",
    "    elif len(str(num))==2 and (str(num)[1]=='3' or str(num)[1]=='6' or str(num)[1]=='9'):\n",
    "        print('X',end=' ')\n",
    "    # 33,66,99 이면 XX 출력    \n",
    "    elif str(num)=='33' or str(num)=='66' or str(num)=='99':\n",
    "        print('XX',end=' ')       \n",
    "    else:\n",
    "        print(num, end=' ')"
   ]
  },
  {
   "cell_type": "code",
   "execution_count": 11,
   "id": "c8c5140e-6475-41d6-8368-6fbe119c690a",
   "metadata": {},
   "outputs": [
    {
     "name": "stdin",
     "output_type": "stream",
     "text": [
      " 2 2 2\n"
     ]
    },
    {
     "name": "stdout",
     "output_type": "stream",
     "text": [
      "0 0 0\n",
      "0 0 1\n",
      "0 1 0\n",
      "0 1 1\n",
      "1 0 0\n",
      "1 0 1\n",
      "1 1 0\n",
      "1 1 1\n",
      "8\n"
     ]
    }
   ],
   "source": [
    "#6083\n",
    "a,b,c = map(int,input().split())\n",
    "count = 0\n",
    "for num_a in range(0,a):\n",
    "    for num_b in range(0,b):\n",
    "        for num_c in range(0,c):\n",
    "            print(num_a,num_b,num_c,sep=' ')\n",
    "            count = count +1\n",
    "print(count)"
   ]
  },
  {
   "cell_type": "code",
   "execution_count": 16,
   "id": "392562b5-c107-475b-9370-de6fbf0163fc",
   "metadata": {},
   "outputs": [
    {
     "name": "stdin",
     "output_type": "stream",
     "text": [
      " 44100 16 2 10\n"
     ]
    },
    {
     "name": "stdout",
     "output_type": "stream",
     "text": [
      "1.7 MB\n"
     ]
    }
   ],
   "source": [
    "#6084\n",
    "a,b,c,d = map(int,input().split())\n",
    "print(round((a*b*c*d)/(2**23),1),'MB',sep=\" \")"
   ]
  },
  {
   "cell_type": "code",
   "execution_count": 18,
   "id": "03467138-1d31-4398-a7e6-61f9a6c0ed7a",
   "metadata": {},
   "outputs": [
    {
     "name": "stdin",
     "output_type": "stream",
     "text": [
      " 1024 768 24\n"
     ]
    },
    {
     "name": "stdout",
     "output_type": "stream",
     "text": [
      "2.25 MB\n"
     ]
    }
   ],
   "source": [
    "#6085\n",
    "a,b,c = map(int,input().split())\n",
    "print(round((a*b*c)/(2**23),2),'MB',sep=\" \")"
   ]
  },
  {
   "cell_type": "code",
   "execution_count": 22,
   "id": "eb9accdf-1b51-4459-978a-7f9bcc2de975",
   "metadata": {
    "tags": []
   },
   "outputs": [
    {
     "name": "stdin",
     "output_type": "stream",
     "text": [
      " 57\n"
     ]
    },
    {
     "name": "stdout",
     "output_type": "stream",
     "text": [
      "66\n"
     ]
    }
   ],
   "source": [
    "#6086\n",
    "a=int(input())\n",
    "n=0\n",
    "sum_num=0\n",
    "while True:\n",
    "    n=n+1\n",
    "    sum_num = sum_num+n\n",
    "    if a<=sum_num:\n",
    "        print(sum_num)\n",
    "        break"
   ]
  },
  {
   "cell_type": "code",
   "execution_count": 1,
   "id": "9d5080ed-56e1-4d90-a29d-1e7d3085ca6e",
   "metadata": {},
   "outputs": [
    {
     "name": "stdin",
     "output_type": "stream",
     "text": [
      " 10\n"
     ]
    },
    {
     "name": "stdout",
     "output_type": "stream",
     "text": [
      "1\n",
      "2\n",
      "4\n",
      "5\n",
      "7\n",
      "8\n",
      "10\n"
     ]
    }
   ],
   "source": [
    "#6087\n",
    "num = int(input())\n",
    "for i in range(1,num+1):\n",
    "    if i%3 !=0:\n",
    "        print(i)"
   ]
  },
  {
   "cell_type": "code",
   "execution_count": 5,
   "id": "4b6fc934-c7a1-4096-8c8d-4629f581c608",
   "metadata": {},
   "outputs": [
    {
     "name": "stdin",
     "output_type": "stream",
     "text": [
      " 1 3 5\n"
     ]
    },
    {
     "name": "stdout",
     "output_type": "stream",
     "text": [
      "13\n"
     ]
    }
   ],
   "source": [
    "#6088,9\n",
    "a,d,n = map(int,input().split())\n",
    "for _ in range(1,n):\n",
    "    a=a+d\n",
    "print(a)"
   ]
  },
  {
   "cell_type": "code",
   "execution_count": 9,
   "id": "2cf5fdb9-2f56-4b52-8933-97f422f14568",
   "metadata": {},
   "outputs": [
    {
     "name": "stdin",
     "output_type": "stream",
     "text": [
      " 1 -2 1 8\n"
     ]
    },
    {
     "name": "stdout",
     "output_type": "stream",
     "text": [
      "-85\n"
     ]
    }
   ],
   "source": [
    "#6090\n",
    "a,r,d,n = map(int,input().split())\n",
    "for _ in range(1,n):\n",
    "    a=a*r+d\n",
    "print(a)"
   ]
  },
  {
   "cell_type": "code",
   "execution_count": null,
   "id": "1d1b6000-5a1a-454e-90d8-0aac1bb94e07",
   "metadata": {},
   "outputs": [],
   "source": []
  }
 ],
 "metadata": {
  "kernelspec": {
   "display_name": "Python 3 (ipykernel)",
   "language": "python",
   "name": "python3"
  },
  "language_info": {
   "codemirror_mode": {
    "name": "ipython",
    "version": 3
   },
   "file_extension": ".py",
   "mimetype": "text/x-python",
   "name": "python",
   "nbconvert_exporter": "python",
   "pygments_lexer": "ipython3",
   "version": "3.9.7"
  },
  "widgets": {
   "application/vnd.jupyter.widget-state+json": {
    "state": {},
    "version_major": 2,
    "version_minor": 0
   }
  }
 },
 "nbformat": 4,
 "nbformat_minor": 5
}
