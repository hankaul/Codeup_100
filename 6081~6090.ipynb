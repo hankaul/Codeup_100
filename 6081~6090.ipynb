{
 "cells": [
  {
   "cell_type": "code",
   "execution_count": 38,
   "id": "0b651d53-5a19-4f1b-87d2-7ef9497f06e2",
   "metadata": {},
   "outputs": [
    {
     "name": "stdin",
     "output_type": "stream",
     "text": [
      " B\n"
     ]
    },
    {
     "name": "stdout",
     "output_type": "stream",
     "text": [
      "B*1=B\n",
      "B*2=16\n",
      "B*3=21\n",
      "B*4=2C\n",
      "B*5=37\n",
      "B*6=42\n",
      "B*7=4D\n",
      "B*8=58\n",
      "B*9=63\n",
      "B*A=6E\n",
      "B*B=79\n",
      "B*C=84\n",
      "B*D=8F\n",
      "B*E=9A\n",
      "B*F=A5\n"
     ]
    }
   ],
   "source": [
    "#6081\n",
    "n = int(input(),16)\n",
    "for i in range (1,16):\n",
    "    print(\"%X*%X=%X\"%(n,i,n*i))"
   ]
  },
  {
   "cell_type": "code",
   "execution_count": 62,
   "id": "62c71fd1-b907-44db-b836-fbda54c18e28",
   "metadata": {},
   "outputs": [
    {
     "name": "stdin",
     "output_type": "stream",
     "text": [
      " B\n"
     ]
    },
    {
     "name": "stdout",
     "output_type": "stream",
     "text": [
      "0xb*0x1=0xb\n",
      "0xb*0x2=0x16\n",
      "0xb*0x3=0x21\n",
      "0xb*0x4=0x2c\n",
      "0xb*0x5=0x37\n",
      "0xb*0x6=0x42\n",
      "0xb*0x7=0x4d\n",
      "0xb*0x8=0x58\n",
      "0xb*0x9=0x63\n",
      "0xb*0xa=0x6e\n",
      "0xb*0xb=0x79\n",
      "0xb*0xc=0x84\n",
      "0xb*0xd=0x8f\n",
      "0xb*0xe=0x9a\n",
      "0xb*0xf=0xa5\n"
     ]
    }
   ],
   "source": [
    "n = int(input(),16)\n",
    "for i in range (1,16):\n",
    "    print(f'{hex(n)}*{hex(i)}={hex(n*i)}')"
   ]
  },
  {
   "cell_type": "code",
   "execution_count": 98,
   "id": "5a07d8df-246e-483a-b38d-f058419e6087",
   "metadata": {},
   "outputs": [
    {
     "name": "stdin",
     "output_type": "stream",
     "text": [
      " 33\n"
     ]
    },
    {
     "name": "stdout",
     "output_type": "stream",
     "text": [
      "1 2 X 4 5 X 7 8 X 10 11 12 X 14 15 X 17 18 X 20 21 22 X 24 25 X 27 28 X X X X X "
     ]
    }
   ],
   "source": [
    "#6082\n",
    "input_num =  int(input())\n",
    "for num in range(1,input_num+1):\n",
    "    #맨 앞의 자리가 3,6,9 이면 X 출력\n",
    "    if len(str(num))==1 and (str(num)[0]=='3' or str(num)[0]=='6' or str(num)[0]=='9') or:\n",
    "        print('X',end=' ')\n",
    "    #두자리수 중 일의자리수가 3,6,9이면 X 출력\n",
    "    elif len(str(num))==2 and (str(num)[1]=='3' or str(num)[1]=='6' or str(num)[1]=='9'):\n",
    "        print('X',end=' ')\n",
    "    # 33,66,99 이면 XX 출력    \n",
    "    elif str(num)=='33' or str(num)=='66' or str(num)=='99':\n",
    "        print('XX',end=' ')       \n",
    "    else:\n",
    "        print(num, end=' ')"
   ]
  },
  {
   "cell_type": "code",
   "execution_count": null,
   "id": "da1af0c4-2482-4508-b01a-3cdf4dbe56d7",
   "metadata": {},
   "outputs": [],
   "source": [
    "#6083\n",
    "input_num =  int(input())\n",
    "for num in range(1,input_num+1):\n",
    "    #맨 앞의 자리가 3,6,9 이면 X 출력 이거나 두자리수 중 일의자리수가 3,6,9이면 X 출력\n",
    "    if len(str(num))==1 and (str(num)[0]=='3' or str(num)[0]=='6' or str(num)[0]=='9') or\n",
    "    (len(str(num))==2 and (str(num)[1]=='3' or str(num)[1]=='6' or str(num)[1]=='9')):\n",
    "        print('X',end=' ')\n",
    "    # 33,66,99 이면 XX 출력    \n",
    "    elif str(num)=='33' or str(num)=='66' or str(num)=='99':\n",
    "        print('XX',end=' ')       \n",
    "    else:\n",
    "        print(num, end=' ')"
   ]
  }
 ],
 "metadata": {
  "kernelspec": {
   "display_name": "Python 3 (ipykernel)",
   "language": "python",
   "name": "python3"
  },
  "language_info": {
   "codemirror_mode": {
    "name": "ipython",
    "version": 3
   },
   "file_extension": ".py",
   "mimetype": "text/x-python",
   "name": "python",
   "nbconvert_exporter": "python",
   "pygments_lexer": "ipython3",
   "version": "3.9.7"
  },
  "widgets": {
   "application/vnd.jupyter.widget-state+json": {
    "state": {},
    "version_major": 2,
    "version_minor": 0
   }
  }
 },
 "nbformat": 4,
 "nbformat_minor": 5
}
