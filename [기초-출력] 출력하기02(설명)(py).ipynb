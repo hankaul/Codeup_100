{
 "cells": [
  {
   "cell_type": "markdown",
   "id": "ef01b08e",
   "metadata": {},
   "source": [
    "## 문제\n",
    "\n",
    "이번에는 공백( )을 포함한 문장을 출력한다.\n",
    "다음 문장을 출력해보자.\n",
    "\n",
    "Hello World\n",
    "(대소문자에 주의한다.)\n",
    "\n",
    "참고\n",
    "print(\"문장1 문장2\")\n",
    "을 실행시키면 \"문장1”, \"문장2\"가 공백( )을 사이에 두고 출력된다.\n",
    "print(\"문장1\", \"문장2\")\n",
    "도 \"문장1\"과 \"문장2\" 사이에 공백( )을 출력한다."
   ]
  },
  {
   "cell_type": "code",
   "execution_count": 1,
   "id": "99cfef97",
   "metadata": {},
   "outputs": [
    {
     "name": "stdout",
     "output_type": "stream",
     "text": [
      "Hello World\n"
     ]
    }
   ],
   "source": [
    "print(\"Hello World\")"
   ]
  }
 ],
 "metadata": {
  "kernelspec": {
   "display_name": "Python 3 (ipykernel)",
   "language": "python",
   "name": "python3"
  },
  "language_info": {
   "codemirror_mode": {
    "name": "ipython",
    "version": 3
   },
   "file_extension": ".py",
   "mimetype": "text/x-python",
   "name": "python",
   "nbconvert_exporter": "python",
   "pygments_lexer": "ipython3",
   "version": "3.8.12"
  }
 },
 "nbformat": 4,
 "nbformat_minor": 5
}
