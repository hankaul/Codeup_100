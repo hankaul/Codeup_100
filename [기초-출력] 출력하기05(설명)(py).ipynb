{
 "cells": [
  {
   "cell_type": "markdown",
   "id": "5e4b3f8d",
   "metadata": {},
   "source": [
    "## 문제\n",
    "이번에는 큰따옴표(\")(double quotation mark)가 포함된 출력문을 연습해보자.\n",
    "\n",
    "다음 문장을 출력하시오.\n",
    "\n",
    "\"Hello World\"\n",
    "(단, 큰따옴표도 함께 출력한다.)\n",
    "\n",
    "예시\n",
    "print(' \" ');\n",
    "\n",
    "참고\n",
    "python 언어에서 print( ) 로 출력할 문장을 표현할 때 큰 따옴표 기호(\")로 묶어 표현한다. \n",
    "따라서, 큰따옴표 기호 그 자체를 출력하기 위해서는 다른 방법을 사용해야한다.\n",
    "python 언어에서 문장(문자열)을 표현하는 기호로 \"와 '를 쌍으로 묶어 사용할 수 있다.\n",
    "따라서, 문장을 표현할 때 사용하는 큰따옴표(\"문장\") 기호 대신 작은따옴표('문장')를 사용하면 큰따옴표를 출력할 수 있다.\n",
    "(물론, 큰따옴표를 출력하는 다른 방법도 있다.) "
   ]
  },
  {
   "cell_type": "code",
   "execution_count": 1,
   "id": "f9535869",
   "metadata": {},
   "outputs": [
    {
     "name": "stdout",
     "output_type": "stream",
     "text": [
      "\"Hello World\"\n"
     ]
    }
   ],
   "source": [
    "print('\"Hello World\"')"
   ]
  }
 ],
 "metadata": {
  "kernelspec": {
   "display_name": "Python 3 (ipykernel)",
   "language": "python",
   "name": "python3"
  },
  "language_info": {
   "codemirror_mode": {
    "name": "ipython",
    "version": 3
   },
   "file_extension": ".py",
   "mimetype": "text/x-python",
   "name": "python",
   "nbconvert_exporter": "python",
   "pygments_lexer": "ipython3",
   "version": "3.8.12"
  }
 },
 "nbformat": 4,
 "nbformat_minor": 5
}
