{
 "cells": [
  {
   "cell_type": "markdown",
   "id": "58062601",
   "metadata": {},
   "source": [
    "## 문제\n",
    "윈도우 운영체제의 파일 경로를 출력하는 연습을 해보자.\n",
    " \n",
    "파일 경로에는 특수문자들이 포함된다.\n",
    "\n",
    "다음 경로를 출력하시오.\n",
    "\n",
    "\"C:\\Download\\\\'hello'.py\"\n",
    "(단, 따옴표도 함께 출력한다.)\n",
    "\n",
    " \n",
    "\n",
    "\\도 안전하게 출력하려면 \\\\를 사용하는 것이 좋다."
   ]
  },
  {
   "cell_type": "code",
   "execution_count": 10,
   "id": "45f1edae",
   "metadata": {},
   "outputs": [
    {
     "name": "stdout",
     "output_type": "stream",
     "text": [
      "\"C:\\Download\\'hello'.py\"\n"
     ]
    }
   ],
   "source": [
    "print('\"C:\\Download\\\\\\'hello\\'.py\"')"
   ]
  }
 ],
 "metadata": {
  "kernelspec": {
   "display_name": "Python 3 (ipykernel)",
   "language": "python",
   "name": "python3"
  },
  "language_info": {
   "codemirror_mode": {
    "name": "ipython",
    "version": 3
   },
   "file_extension": ".py",
   "mimetype": "text/x-python",
   "name": "python",
   "nbconvert_exporter": "python",
   "pygments_lexer": "ipython3",
   "version": "3.8.12"
  }
 },
 "nbformat": 4,
 "nbformat_minor": 5
}
