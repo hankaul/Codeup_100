{
 "cells": [
  {
   "cell_type": "code",
   "execution_count": 9,
   "id": "2644400d-f837-4fde-ba16-757fa5d18253",
   "metadata": {},
   "outputs": [
    {
     "name": "stdin",
     "output_type": "stream",
     "text": [
      " 안녕 누군데\n"
     ]
    }
   ],
   "source": [
    "#6016\n",
    "c1,c2 = input().split()"
   ]
  },
  {
   "cell_type": "code",
   "execution_count": 10,
   "id": "ec315306-781f-4d07-b84d-20259139e490",
   "metadata": {},
   "outputs": [
    {
     "name": "stdout",
     "output_type": "stream",
     "text": [
      "누군데 안녕\n"
     ]
    }
   ],
   "source": [
    "print(c2,c1) #공백을 두고 출력"
   ]
  },
  {
   "cell_type": "code",
   "execution_count": 11,
   "id": "8a5ec67a-9d8a-4cf1-aa5a-338863322773",
   "metadata": {},
   "outputs": [
    {
     "name": "stdin",
     "output_type": "stream",
     "text": [
      " computer science\n"
     ]
    },
    {
     "name": "stdout",
     "output_type": "stream",
     "text": [
      "computer science computer science computer science\n"
     ]
    }
   ],
   "source": [
    "#6017\n",
    "s = input()\n",
    "print(s,s,s)"
   ]
  },
  {
   "cell_type": "code",
   "execution_count": 12,
   "id": "03a6c776-88d9-4ed6-9d2f-2aaabc38d16f",
   "metadata": {},
   "outputs": [
    {
     "name": "stdin",
     "output_type": "stream",
     "text": [
      " 5:15\n"
     ]
    }
   ],
   "source": [
    "#6018\n",
    "a,b = input().split(':')"
   ]
  },
  {
   "cell_type": "code",
   "execution_count": 13,
   "id": "57f02cf8-69a7-4ade-a376-528c70740ca8",
   "metadata": {},
   "outputs": [
    {
     "name": "stdout",
     "output_type": "stream",
     "text": [
      "5:15\n"
     ]
    }
   ],
   "source": [
    "print(f\"{a}:{b}\")"
   ]
  },
  {
   "cell_type": "code",
   "execution_count": 41,
   "id": "6f260f94-7ec1-4a6b-8b9e-71780382c638",
   "metadata": {},
   "outputs": [
    {
     "name": "stdin",
     "output_type": "stream",
     "text": [
      " 2020.2.3\n"
     ]
    },
    {
     "name": "stdout",
     "output_type": "stream",
     "text": [
      "3-2-2020\n"
     ]
    }
   ],
   "source": [
    "#6019\n",
    "year,month,day = input().split('.')\n",
    "print(f'{day}-{month}-{year}')"
   ]
  },
  {
   "cell_type": "code",
   "execution_count": 42,
   "id": "6d5565b7-78b9-4f47-ad79-1f1eedc178b9",
   "metadata": {},
   "outputs": [
    {
     "name": "stdin",
     "output_type": "stream",
     "text": [
      " 950805-1068317\n"
     ]
    },
    {
     "name": "stdout",
     "output_type": "stream",
     "text": [
      "9508051068317\n"
     ]
    }
   ],
   "source": [
    "#6020\n",
    "front,back = input().split('-')\n",
    "print(f'{front}{back}')"
   ]
  },
  {
   "cell_type": "code",
   "execution_count": 44,
   "id": "1a7d7adc-b914-4c7a-9f2a-bcf80e97f371",
   "metadata": {},
   "outputs": [
    {
     "name": "stdin",
     "output_type": "stream",
     "text": [
      " Hello\n"
     ]
    },
    {
     "name": "stdout",
     "output_type": "stream",
     "text": [
      "H\n",
      "e\n",
      "l\n",
      "l\n",
      "o\n"
     ]
    }
   ],
   "source": [
    "#6021\n",
    "word = input()\n",
    "for i in word:\n",
    "    print(i)"
   ]
  },
  {
   "cell_type": "code",
   "execution_count": 49,
   "id": "1905f3ab-ed48-4ebd-bc76-6023bc8c41c1",
   "metadata": {},
   "outputs": [
    {
     "name": "stdin",
     "output_type": "stream",
     "text": [
      " Hello\n"
     ]
    },
    {
     "name": "stdout",
     "output_type": "stream",
     "text": [
      "H\n",
      "e\n",
      "l\n",
      "l\n",
      "o\n"
     ]
    }
   ],
   "source": [
    "word2 = input()\n",
    "for i in range(len(word2)):\n",
    "    print(word2[i])"
   ]
  },
  {
   "cell_type": "code",
   "execution_count": 1,
   "id": "3c407b88-6852-4bc7-941e-6937b4a91bd0",
   "metadata": {},
   "outputs": [
    {
     "name": "stdout",
     "output_type": "stream",
     "text": [
      "s나 너\n"
     ]
    }
   ],
   "source": [
    "print(\"s나\",\"너\")"
   ]
  },
  {
   "cell_type": "code",
   "execution_count": 2,
   "id": "a1625d8f-1704-48c8-8e10-29fe2ebf344a",
   "metadata": {},
   "outputs": [
    {
     "name": "stdin",
     "output_type": "stream",
     "text": [
      " 20220419\n"
     ]
    },
    {
     "name": "stdout",
     "output_type": "stream",
     "text": [
      "20 22 04\n"
     ]
    }
   ],
   "source": [
    "#6022\n",
    "s = input()\n",
    "print(s[:2],s[2:4],s[4:6])"
   ]
  },
  {
   "cell_type": "code",
   "execution_count": 4,
   "id": "b0b63d2e-6fd3-48c9-9d2a-fddebf01a8fa",
   "metadata": {},
   "outputs": [
    {
     "name": "stdin",
     "output_type": "stream",
     "text": [
      " 17:23:57\n"
     ]
    },
    {
     "name": "stdout",
     "output_type": "stream",
     "text": [
      "23\n"
     ]
    }
   ],
   "source": [
    "#6023\n",
    "t = input()\n",
    "print(t.split(':')[1])"
   ]
  },
  {
   "cell_type": "code",
   "execution_count": 7,
   "id": "697d731f-b43e-45a0-b932-873f68b35532",
   "metadata": {},
   "outputs": [
    {
     "name": "stdin",
     "output_type": "stream",
     "text": [
      " hello world\n"
     ]
    },
    {
     "name": "stdout",
     "output_type": "stream",
     "text": [
      "helloworld\n"
     ]
    }
   ],
   "source": [
    "#6024\n",
    "w = input()\n",
    "print(w.split(' ')[0]+w.split(' ')[1])"
   ]
  },
  {
   "cell_type": "code",
   "execution_count": 14,
   "id": "bf582bfd-b9a3-4313-ab1f-ca3e95768021",
   "metadata": {},
   "outputs": [
    {
     "name": "stdin",
     "output_type": "stream",
     "text": [
      " 123 -123\n"
     ]
    },
    {
     "name": "stdout",
     "output_type": "stream",
     "text": [
      "0\n"
     ]
    }
   ],
   "source": [
    "#6025\n",
    "n = list(map(int,input().split(' ')))\n",
    "print(n[0] + n[1])"
   ]
  },
  {
   "cell_type": "code",
   "execution_count": 16,
   "id": "7bcad383-d1ea-4d9b-8af1-fe9126bb121c",
   "metadata": {},
   "outputs": [
    {
     "name": "stdin",
     "output_type": "stream",
     "text": [
      " 3\n",
      " 4\n"
     ]
    },
    {
     "name": "stdout",
     "output_type": "stream",
     "text": [
      "7.0\n"
     ]
    }
   ],
   "source": [
    "#6026\n",
    "a,b = float(input()),float(input())\n",
    "print(a+b)"
   ]
  },
  {
   "cell_type": "code",
   "execution_count": 27,
   "id": "bfc3f176-a18c-4bc5-9ea3-84ae6bb73055",
   "metadata": {},
   "outputs": [
    {
     "name": "stdin",
     "output_type": "stream",
     "text": [
      " 123\n"
     ]
    },
    {
     "name": "stdout",
     "output_type": "stream",
     "text": [
      "7B\n"
     ]
    }
   ],
   "source": [
    "#6027, 6028\n",
    "a = input()\n",
    "n = int(a)            #입력된 a를 10진수 값으로 변환해 변수 n에 저장\n",
    "print('%X'% n)"
   ]
  },
  {
   "cell_type": "code",
   "execution_count": null,
   "id": "7464ed51-3b0e-479a-9e9f-12911bcb975f",
   "metadata": {},
   "outputs": [],
   "source": [
    "#6029\n",
    "a = input()\n",
    "n = int(a, 16)      #입력된 a를 16진수로 인식해 변수 n에 저장\n",
    "print('%o' % n)"
   ]
  },
  {
   "cell_type": "code",
   "execution_count": null,
   "id": "82dc6049-8613-4667-8437-bded6561a008",
   "metadata": {},
   "outputs": [],
   "source": [
    "#6030\n",
    "n = ord(input())\n",
    "print(n)"
   ]
  },
  {
   "cell_type": "code",
   "execution_count": 28,
   "id": "7a1abc43-21bd-4bf5-81f7-9b79e2e5e786",
   "metadata": {},
   "outputs": [
    {
     "name": "stdin",
     "output_type": "stream",
     "text": [
      " 2\n"
     ]
    },
    {
     "name": "stdout",
     "output_type": "stream",
     "text": [
      "-2\n"
     ]
    }
   ],
   "source": [
    "#6032\n",
    "n =int(input())\n",
    "print(-n)"
   ]
  },
  {
   "cell_type": "code",
   "execution_count": 40,
   "id": "5ff4590e-bfbe-41df-b3ce-c0017124cfce",
   "metadata": {},
   "outputs": [
    {
     "name": "stdin",
     "output_type": "stream",
     "text": [
      " A\n"
     ]
    },
    {
     "name": "stdout",
     "output_type": "stream",
     "text": [
      "B\n"
     ]
    }
   ],
   "source": [
    "#6033\n",
    "s =ord(input())\n",
    "print(chr(s+1))"
   ]
  },
  {
   "cell_type": "code",
   "execution_count": 37,
   "id": "57029f66-11fd-4566-a528-7d5567bebd78",
   "metadata": {},
   "outputs": [
    {
     "data": {
      "text/plain": [
       "'A'"
      ]
     },
     "execution_count": 37,
     "metadata": {},
     "output_type": "execute_result"
    }
   ],
   "source": [
    "#6034\n"
   ]
  },
  {
   "cell_type": "code",
   "execution_count": null,
   "id": "f48642a9-98d1-41a3-9067-53b13632e62b",
   "metadata": {},
   "outputs": [],
   "source": []
  }
 ],
 "metadata": {
  "kernelspec": {
   "display_name": "Python 3 (ipykernel)",
   "language": "python",
   "name": "python3"
  },
  "language_info": {
   "codemirror_mode": {
    "name": "ipython",
    "version": 3
   },
   "file_extension": ".py",
   "mimetype": "text/x-python",
   "name": "python",
   "nbconvert_exporter": "python",
   "pygments_lexer": "ipython3",
   "version": "3.9.7"
  },
  "widgets": {
   "application/vnd.jupyter.widget-state+json": {
    "state": {},
    "version_major": 2,
    "version_minor": 0
   }
  }
 },
 "nbformat": 4,
 "nbformat_minor": 5
}
