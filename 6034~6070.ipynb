{
 "cells": [
  {
   "cell_type": "code",
   "execution_count": 8,
   "id": "f26d4452-649a-4ae2-9bb3-b4b73474234f",
   "metadata": {},
   "outputs": [
    {
     "name": "stdin",
     "output_type": "stream",
     "text": [
      " 1 3\n"
     ]
    },
    {
     "name": "stdout",
     "output_type": "stream",
     "text": [
      "-2\n"
     ]
    }
   ],
   "source": [
    "#6034\n",
    "a, b= list(map(int,input().split()))\n",
    "c= a-b\n",
    "print(c)"
   ]
  },
  {
   "cell_type": "code",
   "execution_count": 4,
   "id": "1354eaef-af01-48ca-843b-7477347c257f",
   "metadata": {},
   "outputs": [],
   "source": [
    "a,b = [1,3]"
   ]
  },
  {
   "cell_type": "code",
   "execution_count": 5,
   "id": "c9bc5b43-996b-44d2-a015-86fef80ad8be",
   "metadata": {},
   "outputs": [
    {
     "data": {
      "text/plain": [
       "1"
      ]
     },
     "execution_count": 5,
     "metadata": {},
     "output_type": "execute_result"
    }
   ],
   "source": [
    "a"
   ]
  },
  {
   "cell_type": "code",
   "execution_count": 6,
   "id": "d727f3fa-35f6-47a9-ae63-a3ed6c29f2ea",
   "metadata": {},
   "outputs": [
    {
     "data": {
      "text/plain": [
       "3"
      ]
     },
     "execution_count": 6,
     "metadata": {},
     "output_type": "execute_result"
    }
   ],
   "source": [
    "b"
   ]
  },
  {
   "cell_type": "code",
   "execution_count": 9,
   "id": "3a08ed7b-7c27-43c1-bdf2-0b288e01ff52",
   "metadata": {},
   "outputs": [],
   "source": [
    "a,b = (1,3)"
   ]
  },
  {
   "cell_type": "code",
   "execution_count": 10,
   "id": "bb73d44f-fb9d-4dd3-a852-4283bf94d69f",
   "metadata": {},
   "outputs": [
    {
     "data": {
      "text/plain": [
       "1"
      ]
     },
     "execution_count": 10,
     "metadata": {},
     "output_type": "execute_result"
    }
   ],
   "source": [
    "a"
   ]
  },
  {
   "cell_type": "code",
   "execution_count": 17,
   "id": "24819e63-5dc8-41a1-9484-8b05fefabcaa",
   "metadata": {},
   "outputs": [
    {
     "name": "stdin",
     "output_type": "stream",
     "text": [
      " 0.5 2.0\n"
     ]
    },
    {
     "name": "stdout",
     "output_type": "stream",
     "text": [
      "1.0\n"
     ]
    }
   ],
   "source": [
    "#6035\n",
    "a, b= list(map(float,input().split()))\n",
    "c= a*b\n",
    "print(c)"
   ]
  },
  {
   "cell_type": "code",
   "execution_count": 11,
   "id": "825de232-5d8b-45d7-9668-c524a67a8f9b",
   "metadata": {},
   "outputs": [
    {
     "data": {
      "text/plain": [
       "3"
      ]
     },
     "execution_count": 11,
     "metadata": {},
     "output_type": "execute_result"
    }
   ],
   "source": [
    "b"
   ]
  },
  {
   "cell_type": "code",
   "execution_count": 18,
   "id": "ef598d31-c941-4ce4-91af-d6c131b30b0c",
   "metadata": {},
   "outputs": [
    {
     "name": "stdin",
     "output_type": "stream",
     "text": [
      " love 3\n"
     ]
    },
    {
     "name": "stdout",
     "output_type": "stream",
     "text": [
      "lovelovelove\n"
     ]
    }
   ],
   "source": [
    "#6036\n",
    "a,b = input().split()\n",
    "print(a*int(b))"
   ]
  },
  {
   "cell_type": "code",
   "execution_count": 19,
   "id": "5dc79294-05e7-4c03-9b01-d7498da0265d",
   "metadata": {},
   "outputs": [
    {
     "name": "stdin",
     "output_type": "stream",
     "text": [
      " 3\n",
      " I love cs\n"
     ]
    },
    {
     "name": "stdout",
     "output_type": "stream",
     "text": [
      "I love csI love csI love cs\n"
     ]
    }
   ],
   "source": [
    "#6037\n",
    "a,b = int(input()), input()\n",
    "print(b*a)"
   ]
  },
  {
   "cell_type": "code",
   "execution_count": 20,
   "id": "ef6b926d-a633-4d4a-a867-91658a76dca6",
   "metadata": {},
   "outputs": [
    {
     "name": "stdin",
     "output_type": "stream",
     "text": [
      " 2 10\n"
     ]
    },
    {
     "name": "stdout",
     "output_type": "stream",
     "text": [
      "1024\n"
     ]
    }
   ],
   "source": [
    "#6038\n",
    "a,b = map(int,input().split())\n",
    "print(a**b)"
   ]
  },
  {
   "cell_type": "code",
   "execution_count": 21,
   "id": "37b49562-6d72-4357-a7ea-062781dbfc47",
   "metadata": {},
   "outputs": [
    {
     "name": "stdin",
     "output_type": "stream",
     "text": [
      " 4.0 2.0\n"
     ]
    },
    {
     "name": "stdout",
     "output_type": "stream",
     "text": [
      "16.0\n"
     ]
    }
   ],
   "source": [
    "#6039\n",
    "a,b = map(float,input().split())\n",
    "print(a**b)"
   ]
  },
  {
   "cell_type": "code",
   "execution_count": 22,
   "id": "e0bcc8d8-8ed9-4556-b2de-aab35e2ee74e",
   "metadata": {},
   "outputs": [
    {
     "name": "stdin",
     "output_type": "stream",
     "text": [
      " 10 3\n"
     ]
    },
    {
     "name": "stdout",
     "output_type": "stream",
     "text": [
      "3.0\n"
     ]
    }
   ],
   "source": [
    "#6040\n",
    "a,b = map(int,input().split())\n",
    "print(a//b)"
   ]
  },
  {
   "cell_type": "code",
   "execution_count": null,
   "id": "50f721ba-343c-491b-89a5-244fc1c7ab29",
   "metadata": {},
   "outputs": [],
   "source": [
    "#6041\n",
    "a,b = map(int,input().split())\n",
    "print(a%b)"
   ]
  },
  {
   "cell_type": "code",
   "execution_count": 3,
   "id": "aef7966f-b2e5-4bad-81eb-d8c705f67c2a",
   "metadata": {},
   "outputs": [
    {
     "name": "stdin",
     "output_type": "stream",
     "text": [
      " 3.141592\n"
     ]
    },
    {
     "data": {
      "text/plain": [
       "3.14"
      ]
     },
     "execution_count": 3,
     "metadata": {},
     "output_type": "execute_result"
    }
   ],
   "source": [
    "#6042\n",
    "a =float(input())\n",
    "print(round(a,2))"
   ]
  },
  {
   "cell_type": "code",
   "execution_count": 35,
   "id": "f67be0c1-cf18-4173-ae71-8d8312aaa83a",
   "metadata": {},
   "outputs": [
    {
     "name": "stdin",
     "output_type": "stream",
     "text": [
      " 10 3\n"
     ]
    },
    {
     "name": "stdout",
     "output_type": "stream",
     "text": [
      "3.333\n"
     ]
    }
   ],
   "source": [
    "#6043\n",
    "a,b = list(map(float,(input().split())))\n",
    "print(round(float(a/b),3))"
   ]
  },
  {
   "cell_type": "code",
   "execution_count": 31,
   "id": "75aea17c-4349-47c4-b9b8-3872f240d1e4",
   "metadata": {},
   "outputs": [
    {
     "name": "stdin",
     "output_type": "stream",
     "text": [
      " 10 3\n"
     ]
    }
   ],
   "source": [
    "#6044\n",
    "a,b = list(map(int,input().split()))\n",
    "print(a+b)\n",
    "print(a-b)\n",
    "print(a*b)\n",
    "print(a//b)\n",
    "print(a%b)\n",
    "print(round(a/b,2))"
   ]
  },
  {
   "cell_type": "code",
   "execution_count": 52,
   "id": "904332ee-1cda-43ea-bd29-bdcc4f10da4b",
   "metadata": {},
   "outputs": [
    {
     "name": "stdin",
     "output_type": "stream",
     "text": [
      " 3 4 5\n"
     ]
    },
    {
     "name": "stdout",
     "output_type": "stream",
     "text": [
      "12\n",
      "4.0\n"
     ]
    }
   ],
   "source": [
    "#6045\n",
    "import numpy as np\n",
    "a,b,c= list(map(int,input().split()))\n",
    "print(a+b+c)\n",
    "print(round(np.mean([a,b,c]),3))"
   ]
  },
  {
   "cell_type": "code",
   "execution_count": null,
   "id": "b47176b3-6947-4670-98fe-42d77abbda48",
   "metadata": {},
   "outputs": [],
   "source": [
    "#6046\n",
    "a =int(input())\n",
    "print(a*2)"
   ]
  },
  {
   "cell_type": "code",
   "execution_count": null,
   "id": "bc0047f9-2022-4219-8939-a7b115b990e8",
   "metadata": {},
   "outputs": [],
   "source": [
    "#6047\n",
    "a,b =map(int,input().split())\n",
    "print(a*(2**b))"
   ]
  },
  {
   "cell_type": "code",
   "execution_count": null,
   "id": "984ef551-7207-4b3d-81c0-9e07cde32978",
   "metadata": {},
   "outputs": [],
   "source": [
    "#6048\n",
    "a,b =map(int,input().split())\n",
    "if a<b:\n",
    "    print(\"True\")\n",
    "else:\n",
    "    print(\"False\")"
   ]
  },
  {
   "cell_type": "code",
   "execution_count": null,
   "id": "f31baee6-3d1e-44d3-8a61-91faab774ad3",
   "metadata": {},
   "outputs": [],
   "source": [
    "#6049\n",
    "a,b =map(int,input().split())\n",
    "if a==b:\n",
    "    print(\"True\")\n",
    "else:\n",
    "    print(\"False\")"
   ]
  },
  {
   "cell_type": "code",
   "execution_count": null,
   "id": "eb4bced8-2089-4cfa-8bd8-3753a2862e59",
   "metadata": {},
   "outputs": [],
   "source": [
    "#6050\n",
    "a,b =map(int,input().split())\n",
    "if b>=a:\n",
    "    print(\"True\")\n",
    "else:\n",
    "    print(\"False\")"
   ]
  },
  {
   "cell_type": "code",
   "execution_count": null,
   "id": "7ffef6ed-53fa-474b-90d5-c5ab456384f5",
   "metadata": {},
   "outputs": [],
   "source": [
    "#6051\n",
    "a,b =map(int,input().split())\n",
    "if b!=a:\n",
    "    print(\"True\")\n",
    "else:\n",
    "    print(\"False\")"
   ]
  },
  {
   "cell_type": "code",
   "execution_count": null,
   "id": "ad125a9c-2284-4efc-aab4-eb2e54f79a16",
   "metadata": {},
   "outputs": [],
   "source": [
    "#6052\n",
    "a = int(input())\n",
    "if a==0:\n",
    "    print('False')\n",
    "else:\n",
    "    print('True')"
   ]
  },
  {
   "cell_type": "code",
   "execution_count": null,
   "id": "55d644bf-b3f4-4e58-9675-ec97b0fc397b",
   "metadata": {},
   "outputs": [],
   "source": [
    "#6053\n",
    "a = int(input())\n",
    "if a==0:\n",
    "    print('True')\n",
    "else:\n",
    "    print('False')"
   ]
  },
  {
   "cell_type": "code",
   "execution_count": null,
   "id": "6c5c20a0-455d-48f9-9d2a-87b778dfce48",
   "metadata": {},
   "outputs": [],
   "source": [
    "#6054\n",
    "a,b =map(int,input().split())\n",
    "if a==1 & b==1:\n",
    "    print('True')\n",
    "else:\n",
    "    print('False')"
   ]
  },
  {
   "cell_type": "code",
   "execution_count": null,
   "id": "d76edf54-c311-4945-bc01-180cbd03d180",
   "metadata": {},
   "outputs": [],
   "source": [
    "#6055\n",
    "a,b =map(int,input().split())\n",
    "if a==1 or b==1:\n",
    "    print('True')\n",
    "else:\n",
    "    print('False')"
   ]
  },
  {
   "cell_type": "code",
   "execution_count": null,
   "id": "fd84b79f-a9f1-48d2-b2e4-91350cff0f36",
   "metadata": {},
   "outputs": [],
   "source": [
    "#6056\n",
    "a,b =map(int,input().split())\n",
    "if a!=b:\n",
    "    print('True')\n",
    "else:\n",
    "    print('False')"
   ]
  },
  {
   "cell_type": "code",
   "execution_count": null,
   "id": "091e4eaf-97cd-422c-9326-4cfe97d793f5",
   "metadata": {},
   "outputs": [],
   "source": [
    "#6057\n",
    "a,b =map(int,input().split())\n",
    "if a==b:\n",
    "    print('True')\n",
    "else:\n",
    "    print('False')"
   ]
  },
  {
   "cell_type": "code",
   "execution_count": null,
   "id": "1aae1486-525d-4233-a195-3a321b6afa70",
   "metadata": {},
   "outputs": [],
   "source": [
    "#6057\n",
    "a,b =map(int,input().split())\n",
    "if a==b:\n",
    "    print('True')\n",
    "else:\n",
    "    print('False')"
   ]
  },
  {
   "cell_type": "code",
   "execution_count": null,
   "id": "7fe0f701-2988-48bf-9073-4f2007c9eb13",
   "metadata": {},
   "outputs": [],
   "source": [
    "#6058\n",
    "a,b =map(int,input().split())\n",
    "if a==0 and b==0:\n",
    "    print('True')\n",
    "else:\n",
    "    print('False')"
   ]
  },
  {
   "cell_type": "code",
   "execution_count": 53,
   "id": "909d5e36-c9cf-4f3a-b58b-016a4732b58a",
   "metadata": {},
   "outputs": [
    {
     "data": {
      "text/plain": [
       "-3"
      ]
     },
     "execution_count": 53,
     "metadata": {},
     "output_type": "execute_result"
    }
   ],
   "source": [
    "#6059\n",
    "a= int(input())\n",
    "print(~a)"
   ]
  },
  {
   "cell_type": "code",
   "execution_count": null,
   "id": "f7feeeff-5871-4990-899a-a4eab4b58023",
   "metadata": {},
   "outputs": [],
   "source": [
    "#6060\n",
    "a,b =map(int,input().split())\n",
    "print(a&b)"
   ]
  },
  {
   "cell_type": "code",
   "execution_count": 55,
   "id": "d4c255a5-e3a5-4383-9f66-2dfd0bb30d66",
   "metadata": {},
   "outputs": [
    {
     "data": {
      "text/plain": [
       "1"
      ]
     },
     "execution_count": 55,
     "metadata": {},
     "output_type": "execute_result"
    }
   ],
   "source": [
    "3&5"
   ]
  },
  {
   "cell_type": "code",
   "execution_count": 56,
   "id": "5a75c871-17c0-45a5-ab54-5c594e6cd502",
   "metadata": {},
   "outputs": [
    {
     "data": {
      "text/plain": [
       "3"
      ]
     },
     "execution_count": 56,
     "metadata": {},
     "output_type": "execute_result"
    }
   ],
   "source": [
    "#6061\n",
    "a,b =map(int,input().split())\n",
    "print(a|b)"
   ]
  },
  {
   "cell_type": "code",
   "execution_count": 58,
   "id": "4a37cf35-4b56-40a0-ba85-0f927a672633",
   "metadata": {},
   "outputs": [
    {
     "name": "stdin",
     "output_type": "stream",
     "text": [
      " 3 5\n"
     ]
    },
    {
     "name": "stdout",
     "output_type": "stream",
     "text": [
      "6\n"
     ]
    }
   ],
   "source": [
    "#6062\n",
    "a,b =map(int,input().split())\n",
    "print(a^b)"
   ]
  },
  {
   "cell_type": "code",
   "execution_count": null,
   "id": "1ba44840-c2f0-4732-af9a-79fe6cd0a51a",
   "metadata": {},
   "outputs": [],
   "source": [
    "#6063\n",
    "a,b =map(int,input().split())\n",
    "if a>b:\n",
    "    print(a)\n",
    "elif a<b:\n",
    "    print(b)"
   ]
  },
  {
   "cell_type": "code",
   "execution_count": null,
   "id": "a877c6da-8e13-49dd-9f9a-09236dcdf28a",
   "metadata": {},
   "outputs": [],
   "source": [
    "#6064\n",
    "a,b,c =map(int,input().split())\n",
    "print(min(a,b,c))"
   ]
  },
  {
   "cell_type": "code",
   "execution_count": 60,
   "id": "5fed4482-1b94-4e2c-9d29-eb07dfa79957",
   "metadata": {},
   "outputs": [
    {
     "name": "stdin",
     "output_type": "stream",
     "text": [
      " 1 2 4\n"
     ]
    },
    {
     "name": "stdout",
     "output_type": "stream",
     "text": [
      "2\n",
      "4\n"
     ]
    }
   ],
   "source": [
    "#6065\n",
    "a,b,c =map(int,input().split())\n",
    "if a%2==0:\n",
    "    print(a)\n",
    "if b%2==0:\n",
    "    print(b)\n",
    "if c%2==0:\n",
    "    print(c)"
   ]
  },
  {
   "cell_type": "code",
   "execution_count": 62,
   "id": "6d9ba4a0-ca2a-48ba-a57c-67c319e9c97c",
   "metadata": {},
   "outputs": [
    {
     "name": "stdin",
     "output_type": "stream",
     "text": [
      " 1 2 8\n"
     ]
    },
    {
     "name": "stdout",
     "output_type": "stream",
     "text": [
      "odd\n",
      "even\n",
      "even\n"
     ]
    }
   ],
   "source": [
    "#6066\n",
    "a,b,c =map(int,input().split())\n",
    "if a%2==0:\n",
    "    print(\"even\")\n",
    "else:\n",
    "    print(\"odd\")\n",
    "if b%2==0:\n",
    "    print(\"even\")\n",
    "else:\n",
    "    print(\"odd\")\n",
    "if c%2==0:\n",
    "    print(\"even\")\n",
    "else:\n",
    "    print(\"odd\")"
   ]
  },
  {
   "cell_type": "code",
   "execution_count": 74,
   "id": "e74e9a72-2c65-4f3d-a360-3630f357a420",
   "metadata": {},
   "outputs": [
    {
     "name": "stdin",
     "output_type": "stream",
     "text": [
      " 5\n"
     ]
    },
    {
     "name": "stdout",
     "output_type": "stream",
     "text": [
      "D\n"
     ]
    }
   ],
   "source": [
    "#6067\n",
    "a = int(input())        \n",
    "if a%2==0 and a<0:\n",
    "    print(\"A\")\n",
    "elif a%2!=0 and a<0:\n",
    "    print(\"B\")\n",
    "elif a%2==0 and a>0:\n",
    "    print(\"C\")\n",
    "else:\n",
    "    print(\"D\")"
   ]
  },
  {
   "cell_type": "code",
   "execution_count": 76,
   "id": "1343f00a-abed-4fac-bbf3-5784e97975e7",
   "metadata": {},
   "outputs": [
    {
     "name": "stdin",
     "output_type": "stream",
     "text": [
      " 5\n"
     ]
    },
    {
     "name": "stdout",
     "output_type": "stream",
     "text": [
      "D\n"
     ]
    }
   ],
   "source": [
    "#6068\n",
    "a = int(input())        \n",
    "if a>=90:\n",
    "    print(\"A\")\n",
    "elif a>=70:\n",
    "    print(\"B\")\n",
    "elif a>=40:\n",
    "    print(\"C\")\n",
    "else:\n",
    "    print(\"D\")"
   ]
  },
  {
   "cell_type": "code",
   "execution_count": 78,
   "id": "dd6c1030-7c57-4bf9-b2ba-df509ebf26eb",
   "metadata": {},
   "outputs": [
    {
     "name": "stdin",
     "output_type": "stream",
     "text": [
      " A\n"
     ]
    },
    {
     "name": "stdout",
     "output_type": "stream",
     "text": [
      "best!!!\n"
     ]
    }
   ],
   "source": [
    "#6069\n",
    "a = input()     \n",
    "if a=='A':\n",
    "    print(\"best!!!\")\n",
    "elif a=='B':\n",
    "    print(\"good!!\")\n",
    "elif a=='C':\n",
    "    print(\"run!\")\n",
    "elif a=='D':\n",
    "    print(\"slowly~\")\n",
    "else:\n",
    "    print(\"what?\")"
   ]
  },
  {
   "cell_type": "code",
   "execution_count": 90,
   "id": "5a5d1297-2fcf-4145-8f30-0f2e4c99b3c1",
   "metadata": {},
   "outputs": [
    {
     "name": "stdin",
     "output_type": "stream",
     "text": [
      " 4\n"
     ]
    },
    {
     "name": "stdout",
     "output_type": "stream",
     "text": [
      "spring\n"
     ]
    }
   ],
   "source": [
    "#6070\n",
    "a = int(input())     \n",
    "if a==12 or a==1 or a==2:\n",
    "    print(\"winter\")\n",
    "elif a==3 or a==4 or a==5:\n",
    "    print(\"spring\")\n",
    "elif a==6 or a==7 or a==8:\n",
    "    print(\"summer\")\n",
    "elif a==9 or a==10 or a==11:\n",
    "    print(\"fall\")"
   ]
  },
  {
   "cell_type": "code",
   "execution_count": 85,
   "id": "4ab1e995-6424-4e29-bdcb-9fdc91f0d142",
   "metadata": {},
   "outputs": [
    {
     "data": {
      "text/plain": [
       "False"
      ]
     },
     "execution_count": 85,
     "metadata": {},
     "output_type": "execute_result"
    }
   ],
   "source": [
    "a==12 or a==2"
   ]
  },
  {
   "cell_type": "code",
   "execution_count": null,
   "id": "067aade2-7530-462a-8ab8-79ebf1a4d1c7",
   "metadata": {},
   "outputs": [],
   "source": []
  }
 ],
 "metadata": {
  "kernelspec": {
   "display_name": "Python 3 (ipykernel)",
   "language": "python",
   "name": "python3"
  },
  "language_info": {
   "codemirror_mode": {
    "name": "ipython",
    "version": 3
   },
   "file_extension": ".py",
   "mimetype": "text/x-python",
   "name": "python",
   "nbconvert_exporter": "python",
   "pygments_lexer": "ipython3",
   "version": "3.9.7"
  },
  "widgets": {
   "application/vnd.jupyter.widget-state+json": {
    "state": {},
    "version_major": 2,
    "version_minor": 0
   }
  }
 },
 "nbformat": 4,
 "nbformat_minor": 5
}
