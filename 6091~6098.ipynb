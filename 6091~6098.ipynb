{
 "cells": [
  {
   "cell_type": "code",
   "execution_count": 3,
   "id": "5d204def-b407-4e4c-8c9e-112a4216cdfc",
   "metadata": {
    "tags": []
   },
   "outputs": [
    {
     "name": "stdin",
     "output_type": "stream",
     "text": [
      " 3 7 9\n"
     ]
    },
    {
     "name": "stdout",
     "output_type": "stream",
     "text": [
      "63\n"
     ]
    }
   ],
   "source": [
    "#6091\n",
    "a,b,c = map(int,input().split())\n",
    "d=1\n",
    "while d%a!=0 or d%b!=0 or d%c!=0:\n",
    "    d=d+1\n",
    "print(d)"
   ]
  },
  {
   "cell_type": "code",
   "execution_count": 4,
   "id": "301f5118-4e99-46aa-b742-be701c2a684b",
   "metadata": {},
   "outputs": [
    {
     "name": "stdin",
     "output_type": "stream",
     "text": [
      " 10\n",
      " 1 3 2 2 5 6 7 4 5 9\n"
     ]
    },
    {
     "name": "stdout",
     "output_type": "stream",
     "text": [
      "1 2 1 1 2 1 1 0 1 0 0 0 0 0 0 0 0 0 0 0 0 0 0 "
     ]
    }
   ],
   "source": [
    "#6092\n",
    "num = int(input())\n",
    "call_num_list = list(map(int,input().split()))\n",
    "count_list = [0]*24\n",
    "\n",
    "for call_num in call_num_list:\n",
    "    count_list[call_num]= count_list[call_num]+1\n",
    "\n",
    "for i in range(1,len(count_list)):\n",
    "    print(count_list[i],sep=' ')"
   ]
  },
  {
   "cell_type": "code",
   "execution_count": 29,
   "id": "43d9e799-0645-4c00-b077-71d8d43aa358",
   "metadata": {},
   "outputs": [
    {
     "name": "stdin",
     "output_type": "stream",
     "text": [
      " 10\n",
      " 10 4 2 3 6 6 7 9 8 5\n"
     ]
    },
    {
     "name": "stdout",
     "output_type": "stream",
     "text": [
      "5 8 9 7 6 6 3 2 4 10 "
     ]
    }
   ],
   "source": [
    "#6093\n",
    "num = int(input())\n",
    "a = list(map(int,input().split()))\n",
    "for i in range(len(a)-1,-1,-1):\n",
    "    print(a[i],end=' ')"
   ]
  },
  {
   "cell_type": "code",
   "execution_count": 30,
   "id": "808bcf8a-82cb-4c9b-b5cd-30c6112db21a",
   "metadata": {},
   "outputs": [
    {
     "name": "stdin",
     "output_type": "stream",
     "text": [
      " 10\n",
      " 10 4 2 3 6 6 7 9 8 5\n"
     ]
    },
    {
     "data": {
      "text/plain": [
       "2"
      ]
     },
     "execution_count": 30,
     "metadata": {},
     "output_type": "execute_result"
    }
   ],
   "source": [
    "#6094\n",
    "num = int(input())\n",
    "a = list(map(int,input().split()))\n",
    "print(min(a))"
   ]
  },
  {
   "cell_type": "code",
   "execution_count": 51,
   "id": "84d5646a-cb1a-400e-aab4-677c94ebd905",
   "metadata": {
    "jp-MarkdownHeadingCollapsed": true,
    "tags": []
   },
   "outputs": [
    {
     "name": "stdin",
     "output_type": "stream",
     "text": [
      " 5\n",
      " 1 1\n",
      " 2 2\n",
      " 3 3\n",
      " 4 4\n",
      " 5 5\n"
     ]
    },
    {
     "name": "stdout",
     "output_type": "stream",
     "text": [
      "\n",
      "1 0 0 0 0 0 0 0 0 0 0 0 0 0 0 0 0 0 0 0 \n",
      "0 1 0 0 0 0 0 0 0 0 0 0 0 0 0 0 0 0 0 0 \n",
      "0 0 1 0 0 0 0 0 0 0 0 0 0 0 0 0 0 0 0 0 \n",
      "0 0 0 1 0 0 0 0 0 0 0 0 0 0 0 0 0 0 0 0 \n",
      "0 0 0 0 1 0 0 0 0 0 0 0 0 0 0 0 0 0 0 0 \n",
      "0 0 0 0 0 0 0 0 0 0 0 0 0 0 0 0 0 0 0 0 \n",
      "0 0 0 0 0 0 0 0 0 0 0 0 0 0 0 0 0 0 0 0 \n",
      "0 0 0 0 0 0 0 0 0 0 0 0 0 0 0 0 0 0 0 0 \n",
      "0 0 0 0 0 0 0 0 0 0 0 0 0 0 0 0 0 0 0 0 \n",
      "0 0 0 0 0 0 0 0 0 0 0 0 0 0 0 0 0 0 0 0 \n",
      "0 0 0 0 0 0 0 0 0 0 0 0 0 0 0 0 0 0 0 0 \n",
      "0 0 0 0 0 0 0 0 0 0 0 0 0 0 0 0 0 0 0 0 \n",
      "0 0 0 0 0 0 0 0 0 0 0 0 0 0 0 0 0 0 0 0 \n",
      "0 0 0 0 0 0 0 0 0 0 0 0 0 0 0 0 0 0 0 0 \n",
      "0 0 0 0 0 0 0 0 0 0 0 0 0 0 0 0 0 0 0 0 \n",
      "0 0 0 0 0 0 0 0 0 0 0 0 0 0 0 0 0 0 0 0 \n",
      "0 0 0 0 0 0 0 0 0 0 0 0 0 0 0 0 0 0 0 0 \n",
      "0 0 0 0 0 0 0 0 0 0 0 0 0 0 0 0 0 0 0 0 \n",
      "0 0 0 0 0 0 0 0 0 0 0 0 0 0 0 0 0 0 0 0 \n",
      "0 0 0 0 0 0 0 0 0 0 0 0 0 0 0 0 0 0 0 0 "
     ]
    }
   ],
   "source": [
    "#6095\n",
    "num = int(input())\n",
    "a=[[0 for j in range(20)] for i in range(20)]\n",
    "for _ in range(num):\n",
    "    i,j = map(int,input().split())\n",
    "    a[i-1][j-1]=a[i-1][j-1]+1\n",
    "    \n",
    "for x in range(len(a)):\n",
    "    print(\"\")\n",
    "    for y in range(len(a[0])):\n",
    "        print(a[x][y], end=' ')"
   ]
  },
  {
   "cell_type": "code",
   "execution_count": null,
   "id": "bb7708e3-6e4f-40a8-b79e-b395caf50695",
   "metadata": {
    "collapsed": true,
    "jupyter": {
     "outputs_hidden": true,
     "source_hidden": true
    },
    "tags": []
   },
   "outputs": [
    {
     "ename": "KeyboardInterrupt",
     "evalue": "Interrupted by user",
     "output_type": "error",
     "traceback": [
      "\u001b[1;31m---------------------------------------------------------------------------\u001b[0m",
      "\u001b[1;31mKeyboardInterrupt\u001b[0m                         Traceback (most recent call last)",
      "\u001b[1;32m~\\AppData\\Local\\Temp/ipykernel_17120/2335241314.py\u001b[0m in \u001b[0;36m<module>\u001b[1;34m\u001b[0m\n\u001b[0;32m      3\u001b[0m \u001b[1;33m\u001b[0m\u001b[0m\n\u001b[0;32m      4\u001b[0m \u001b[1;32mfor\u001b[0m \u001b[0mi\u001b[0m \u001b[1;32min\u001b[0m \u001b[0mrange\u001b[0m\u001b[1;33m(\u001b[0m\u001b[1;36m19\u001b[0m\u001b[1;33m)\u001b[0m\u001b[1;33m:\u001b[0m\u001b[1;33m\u001b[0m\u001b[1;33m\u001b[0m\u001b[0m\n\u001b[1;32m----> 5\u001b[1;33m     \u001b[0ma\u001b[0m \u001b[1;33m=\u001b[0m \u001b[0minput\u001b[0m\u001b[1;33m(\u001b[0m\u001b[1;33m)\u001b[0m\u001b[1;33m.\u001b[0m\u001b[0msplit\u001b[0m\u001b[1;33m(\u001b[0m\u001b[1;33m)\u001b[0m\u001b[1;33m\u001b[0m\u001b[1;33m\u001b[0m\u001b[0m\n\u001b[0m\u001b[0;32m      6\u001b[0m     \u001b[1;32mfor\u001b[0m \u001b[0mj\u001b[0m \u001b[1;32min\u001b[0m \u001b[0mrange\u001b[0m\u001b[1;33m(\u001b[0m\u001b[1;36m19\u001b[0m\u001b[1;33m)\u001b[0m\u001b[1;33m:\u001b[0m\u001b[1;33m\u001b[0m\u001b[1;33m\u001b[0m\u001b[0m\n\u001b[0;32m      7\u001b[0m         \u001b[0md\u001b[0m\u001b[1;33m[\u001b[0m\u001b[0mi\u001b[0m\u001b[1;33m+\u001b[0m\u001b[1;36m1\u001b[0m\u001b[1;33m]\u001b[0m\u001b[1;33m[\u001b[0m\u001b[0mj\u001b[0m\u001b[1;33m+\u001b[0m\u001b[1;36m1\u001b[0m\u001b[1;33m]\u001b[0m \u001b[1;33m=\u001b[0m \u001b[0mint\u001b[0m\u001b[1;33m(\u001b[0m\u001b[0ma\u001b[0m\u001b[1;33m[\u001b[0m\u001b[0mj\u001b[0m\u001b[1;33m]\u001b[0m\u001b[1;33m)\u001b[0m\u001b[1;33m\u001b[0m\u001b[1;33m\u001b[0m\u001b[0m\n",
      "\u001b[1;32m~\\anaconda3\\lib\\site-packages\\ipykernel\\kernelbase.py\u001b[0m in \u001b[0;36mraw_input\u001b[1;34m(self, prompt)\u001b[0m\n\u001b[0;32m   1004\u001b[0m                 \u001b[1;34m\"raw_input was called, but this frontend does not support input requests.\"\u001b[0m\u001b[1;33m\u001b[0m\u001b[1;33m\u001b[0m\u001b[0m\n\u001b[0;32m   1005\u001b[0m             )\n\u001b[1;32m-> 1006\u001b[1;33m         return self._input_request(\n\u001b[0m\u001b[0;32m   1007\u001b[0m             \u001b[0mstr\u001b[0m\u001b[1;33m(\u001b[0m\u001b[0mprompt\u001b[0m\u001b[1;33m)\u001b[0m\u001b[1;33m,\u001b[0m\u001b[1;33m\u001b[0m\u001b[1;33m\u001b[0m\u001b[0m\n\u001b[0;32m   1008\u001b[0m             \u001b[0mself\u001b[0m\u001b[1;33m.\u001b[0m\u001b[0m_parent_ident\u001b[0m\u001b[1;33m[\u001b[0m\u001b[1;34m\"shell\"\u001b[0m\u001b[1;33m]\u001b[0m\u001b[1;33m,\u001b[0m\u001b[1;33m\u001b[0m\u001b[1;33m\u001b[0m\u001b[0m\n",
      "\u001b[1;32m~\\anaconda3\\lib\\site-packages\\ipykernel\\kernelbase.py\u001b[0m in \u001b[0;36m_input_request\u001b[1;34m(self, prompt, ident, parent, password)\u001b[0m\n\u001b[0;32m   1049\u001b[0m             \u001b[1;32mexcept\u001b[0m \u001b[0mKeyboardInterrupt\u001b[0m\u001b[1;33m:\u001b[0m\u001b[1;33m\u001b[0m\u001b[1;33m\u001b[0m\u001b[0m\n\u001b[0;32m   1050\u001b[0m                 \u001b[1;31m# re-raise KeyboardInterrupt, to truncate traceback\u001b[0m\u001b[1;33m\u001b[0m\u001b[1;33m\u001b[0m\u001b[0m\n\u001b[1;32m-> 1051\u001b[1;33m                 \u001b[1;32mraise\u001b[0m \u001b[0mKeyboardInterrupt\u001b[0m\u001b[1;33m(\u001b[0m\u001b[1;34m\"Interrupted by user\"\u001b[0m\u001b[1;33m)\u001b[0m \u001b[1;32mfrom\u001b[0m \u001b[1;32mNone\u001b[0m\u001b[1;33m\u001b[0m\u001b[1;33m\u001b[0m\u001b[0m\n\u001b[0m\u001b[0;32m   1052\u001b[0m             \u001b[1;32mexcept\u001b[0m \u001b[0mException\u001b[0m\u001b[1;33m:\u001b[0m\u001b[1;33m\u001b[0m\u001b[1;33m\u001b[0m\u001b[0m\n\u001b[0;32m   1053\u001b[0m                 \u001b[0mself\u001b[0m\u001b[1;33m.\u001b[0m\u001b[0mlog\u001b[0m\u001b[1;33m.\u001b[0m\u001b[0mwarning\u001b[0m\u001b[1;33m(\u001b[0m\u001b[1;34m\"Invalid Message:\"\u001b[0m\u001b[1;33m,\u001b[0m \u001b[0mexc_info\u001b[0m\u001b[1;33m=\u001b[0m\u001b[1;32mTrue\u001b[0m\u001b[1;33m)\u001b[0m\u001b[1;33m\u001b[0m\u001b[1;33m\u001b[0m\u001b[0m\n",
      "\u001b[1;31mKeyboardInterrupt\u001b[0m: Interrupted by user"
     ]
    }
   ],
   "source": [
    "#6096\n",
    "d=[[0 for j in range(20)] for i in range(20)]\n",
    "\n",
    "for i in range(19):\n",
    "    a = input().split()\n",
    "    for j in range(19):\n",
    "        d[i+1][j+1] = int(a[j])\n",
    "        \n",
    "n= int(input())\n",
    "for i in range(n):\n",
    "    x,y = input().split()\n",
    "    x=int(x)\n",
    "    y=int(y)\n",
    "    for j in range(1,20):\n",
    "        if d[j][y]==0:\n",
    "            d[j][y]=1\n",
    "        else:\n",
    "            d[j][y]=0\n",
    "        if d[x][j]==0:\n",
    "            d[x][j]=1\n",
    "        else:\n",
    "            d[x][j]=0\n",
    "\n",
    "for i in range(1, 20) : \n",
    "    for j in range(1, 20) : \n",
    "        print(d[i][j], end=' ') "
   ]
  },
  {
   "cell_type": "code",
   "execution_count": 67,
   "id": "f96f03b5-df8f-44ab-baac-aa02439f4e67",
   "metadata": {},
   "outputs": [
    {
     "name": "stdin",
     "output_type": "stream",
     "text": [
      " 5 5\n",
      " 3\n",
      " 2 0 1 1\n",
      " 3 1 2 3\n",
      " 4 1 2 5\n"
     ]
    },
    {
     "name": "stdout",
     "output_type": "stream",
     "text": [
      "\n",
      "1 1 0 0 0 \n",
      "0 0 1 0 1 \n",
      "0 0 1 0 1 \n",
      "0 0 1 0 1 \n",
      "0 0 0 0 1 "
     ]
    }
   ],
   "source": [
    "#6097\n",
    "a,b = map(int,input().split())\n",
    "candy_list = [[0 for j in range(a)] for i in range(b)]\n",
    "count = int(input()) # 놓을 횟수\n",
    "for _ in range(count): # 놓을 횟수 만큼 반복 ex) 3번 반복\n",
    "    l,d,x,y = map(int,input().split()) # ex) (4: 막대길이) (1:세로) (x:2) (y:5) \n",
    "    candy_list[x-1][y-1]=1\n",
    "    for _ in range(l-1):\n",
    "        if d==1:\n",
    "            x=x+1\n",
    "            candy_list[x-1][y-1]=1\n",
    "        else:\n",
    "            y=y+1\n",
    "            candy_list[x-1][y-1]=1\n",
    "\n",
    "for i in range(0,a) :\n",
    "    print(\"\")\n",
    "    for j in range(0,b) : \n",
    "        print(candy_list[i][j],end=' ')\n"
   ]
  },
  {
   "cell_type": "code",
   "execution_count": null,
   "id": "f50150fa-652d-4e09-b9c6-07537eb5ed51",
   "metadata": {},
   "outputs": [],
   "source": []
  },
  {
   "cell_type": "code",
   "execution_count": 73,
   "id": "c625b73d-10e2-459c-9297-586acedf56e1",
   "metadata": {},
   "outputs": [
    {
     "name": "stdin",
     "output_type": "stream",
     "text": [
      " 5 5\n",
      " 3\n",
      " 2 0 1 1 \n",
      " 3 1 2 3\n",
      " 4 1 2 5\n"
     ]
    },
    {
     "name": "stdout",
     "output_type": "stream",
     "text": [
      "1 1 0 0 0\n",
      "0 0 1 0 1\n",
      "0 0 1 0 1\n",
      "0 0 1 0 1\n",
      "0 0 0 0 1\n"
     ]
    }
   ],
   "source": [
    "#\n",
    "a,b = map(int,input().split())\n",
    "candy_list = [[0 for j in range(a)] for i in range(b)]\n",
    "count = int(input()) # 놓을 횟수\n",
    "for _ in range(count): # 놓을 횟수 만큼 반복 ex) 3번 반복\n",
    "    l,d,x,y = map(int,input().split()) # ex) (4: 막대길이) (1:세로) (x:2) (y:5) \n",
    "    candy_list[x-1][y-1]=1\n",
    "    for _ in range(l-1):\n",
    "        if d==1:\n",
    "            x=x+1\n",
    "            candy_list[x-1][y-1]=1\n",
    "        else:\n",
    "            y=y+1\n",
    "            candy_list[x-1][y-1]=1\n",
    "\n",
    "for candy in candy_list:\n",
    "    print(*candy)"
   ]
  },
  {
   "cell_type": "code",
   "execution_count": 68,
   "id": "765f2b0a-fa82-4e88-a45c-b04be310180d",
   "metadata": {
    "tags": []
   },
   "outputs": [
    {
     "name": "stdout",
     "output_type": "stream",
     "text": [
      "\n"
     ]
    }
   ],
   "source": [
    "#6098\n",
    "while ant_house[x][y]!=2:\n",
    "    if ant_house[x][y]==0:\n",
    "        ant_hounse[x][y]=9\n",
    "        y+=1\n",
    "    else:\n",
    "        x=x+1\n",
    "        y=y-1\n",
    "ant_house[x][y]=9\n",
    "\n",
    "for house in ant_house:\n",
    "    print(*house)"
   ]
  },
  {
   "cell_type": "code",
   "execution_count": null,
   "id": "ae9acbe4-ce08-4a9c-bf4a-e31a0f0d56d5",
   "metadata": {},
   "outputs": [],
   "source": []
  }
 ],
 "metadata": {
  "kernelspec": {
   "display_name": "Python 3 (ipykernel)",
   "language": "python",
   "name": "python3"
  },
  "language_info": {
   "codemirror_mode": {
    "name": "ipython",
    "version": 3
   },
   "file_extension": ".py",
   "mimetype": "text/x-python",
   "name": "python",
   "nbconvert_exporter": "python",
   "pygments_lexer": "ipython3",
   "version": "3.9.7"
  },
  "widgets": {
   "application/vnd.jupyter.widget-state+json": {
    "state": {},
    "version_major": 2,
    "version_minor": 0
   }
  }
 },
 "nbformat": 4,
 "nbformat_minor": 5
}
