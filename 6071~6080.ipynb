{
 "cells": [
  {
   "cell_type": "code",
   "execution_count": 5,
   "id": "ea6d9f28-5e98-4cef-a375-4c941e5cee6a",
   "metadata": {},
   "outputs": [
    {
     "name": "stdin",
     "output_type": "stream",
     "text": [
      " 0\n"
     ]
    }
   ],
   "source": [
    "#6072\n",
    "a=1\n",
    "while a!=0:\n",
    "    a=int(input())\n",
    "    if a!=0:\n",
    "        print(a)"
   ]
  },
  {
   "cell_type": "code",
   "execution_count": 13,
   "id": "063674f2-5f71-4e28-a77a-751fcb38844e",
   "metadata": {},
   "outputs": [
    {
     "name": "stdin",
     "output_type": "stream",
     "text": [
      " 5\n"
     ]
    },
    {
     "name": "stdout",
     "output_type": "stream",
     "text": [
      "4\n",
      "3\n",
      "2\n",
      "1\n",
      "0\n"
     ]
    }
   ],
   "source": [
    "#6073\n",
    "a=int(input())\n",
    "for i in range (0,a):\n",
    "    print(a-i)"
   ]
  },
  {
   "cell_type": "code",
   "execution_count": 1,
   "id": "eb8c962e-d3f1-4e9a-8412-6d7da08d9f45",
   "metadata": {},
   "outputs": [
    {
     "name": "stdin",
     "output_type": "stream",
     "text": [
      " 3\n"
     ]
    },
    {
     "name": "stdout",
     "output_type": "stream",
     "text": [
      "2\n",
      "1\n",
      "0\n"
     ]
    }
   ],
   "source": [
    "#6074\n",
    "a=int(input())\n",
    "for i in range (0,a):\n",
    "    print(a-i-1)"
   ]
  },
  {
   "cell_type": "code",
   "execution_count": 8,
   "id": "bc267b03-30b2-44e9-95d6-965f47d5ba44",
   "metadata": {},
   "outputs": [
    {
     "name": "stdin",
     "output_type": "stream",
     "text": [
      " f\n"
     ]
    },
    {
     "name": "stdout",
     "output_type": "stream",
     "text": [
      "a\n",
      "b\n",
      "c\n",
      "d\n",
      "e\n",
      "f\n"
     ]
    }
   ],
   "source": [
    "#6075\n",
    "ord_num = ord(input())\n",
    "for i in range(97,ord_num+1):\n",
    "    print(chr(i), sep='')"
   ]
  },
  {
   "cell_type": "code",
   "execution_count": 15,
   "id": "f2ab1ad1-66bb-4d03-853d-4ad1399a4de7",
   "metadata": {},
   "outputs": [
    {
     "name": "stdin",
     "output_type": "stream",
     "text": [
      " 4\n"
     ]
    },
    {
     "name": "stdout",
     "output_type": "stream",
     "text": [
      "0\n",
      "1\n",
      "2\n",
      "3\n",
      "4\n"
     ]
    }
   ],
   "source": [
    "#6076\n",
    "input_num = int(input())\n",
    "for num in range(0,input_num+1):\n",
    "    print(num)"
   ]
  },
  {
   "cell_type": "code",
   "execution_count": 23,
   "id": "49e90d64-5649-40d8-89ae-660f86e122f1",
   "metadata": {},
   "outputs": [
    {
     "name": "stdin",
     "output_type": "stream",
     "text": [
      " 5\n"
     ]
    },
    {
     "name": "stdout",
     "output_type": "stream",
     "text": [
      "6\n"
     ]
    }
   ],
   "source": [
    "#6077\n",
    "input_num = int(input())\n",
    "sum=0\n",
    "for num in range(1,input_num+1):\n",
    "    if num%2 ==0:\n",
    "        sum=sum+num\n",
    "print(sum)"
   ]
  },
  {
   "cell_type": "code",
   "execution_count": 38,
   "id": "0b97f0e1-0708-4955-891f-8e566e706206",
   "metadata": {},
   "outputs": [
    {
     "name": "stdin",
     "output_type": "stream",
     "text": [
      " t\n"
     ]
    },
    {
     "name": "stdout",
     "output_type": "stream",
     "text": [
      "t\n"
     ]
    },
    {
     "name": "stdin",
     "output_type": "stream",
     "text": [
      " ts\n"
     ]
    },
    {
     "name": "stdout",
     "output_type": "stream",
     "text": [
      "ts\n"
     ]
    },
    {
     "name": "stdin",
     "output_type": "stream",
     "text": [
      " s\n"
     ]
    },
    {
     "name": "stdout",
     "output_type": "stream",
     "text": [
      "s\n"
     ]
    },
    {
     "name": "stdin",
     "output_type": "stream",
     "text": [
      " d\n"
     ]
    },
    {
     "name": "stdout",
     "output_type": "stream",
     "text": [
      "d\n"
     ]
    },
    {
     "name": "stdin",
     "output_type": "stream",
     "text": [
      " q\n"
     ]
    },
    {
     "name": "stdout",
     "output_type": "stream",
     "text": [
      "q\n"
     ]
    }
   ],
   "source": [
    "#6078\n",
    "for _ in range(1000):\n",
    "    n = input()\n",
    "    print(n)\n",
    "    if n=='q':\n",
    "        break"
   ]
  },
  {
   "cell_type": "code",
   "execution_count": 52,
   "id": "ad865631-5a40-4eb2-a678-274b93d43bd8",
   "metadata": {},
   "outputs": [
    {
     "name": "stdin",
     "output_type": "stream",
     "text": [
      " 54\n"
     ]
    },
    {
     "name": "stdout",
     "output_type": "stream",
     "text": [
      "10\n"
     ]
    }
   ],
   "source": [
    "#6079\n",
    "sum = 0\n",
    "n = int(input())\n",
    "for N in range(1,1000):\n",
    "    sum = sum+N\n",
    "    if n<=sum:\n",
    "        break\n",
    "print(N)"
   ]
  },
  {
   "cell_type": "code",
   "execution_count": 64,
   "id": "44084a1d-b1c0-4553-8389-2a4305fe05c0",
   "metadata": {},
   "outputs": [
    {
     "name": "stdin",
     "output_type": "stream",
     "text": [
      " 2 4\n"
     ]
    },
    {
     "name": "stdout",
     "output_type": "stream",
     "text": [
      "1 1\n",
      "1 2\n",
      "1 3\n",
      "1 4\n",
      "2 1\n",
      "2 2\n",
      "2 3\n",
      "2 4\n"
     ]
    }
   ],
   "source": [
    "#6080\n",
    "n,m = map(int,input().split())\n",
    "for n in range(1,n+1):\n",
    "    for m in range(1,m+1):\n",
    "        print(f'{n} {m}')"
   ]
  }
 ],
 "metadata": {
  "kernelspec": {
   "display_name": "Python 3 (ipykernel)",
   "language": "python",
   "name": "python3"
  },
  "language_info": {
   "codemirror_mode": {
    "name": "ipython",
    "version": 3
   },
   "file_extension": ".py",
   "mimetype": "text/x-python",
   "name": "python",
   "nbconvert_exporter": "python",
   "pygments_lexer": "ipython3",
   "version": "3.9.7"
  },
  "widgets": {
   "application/vnd.jupyter.widget-state+json": {
    "state": {},
    "version_major": 2,
    "version_minor": 0
   }
  }
 },
 "nbformat": 4,
 "nbformat_minor": 5
}
