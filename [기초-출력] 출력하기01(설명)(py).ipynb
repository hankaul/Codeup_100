{
 "cells": [
  {
   "cell_type": "markdown",
   "id": "031d1c99",
   "metadata": {},
   "source": [
    "## 문제\n",
    "\n",
    "python 언어에서 가장 기본적인 명령이 출력문이다.\n",
    "print( )를 이용해 다음 단어를 출력하시오.\n",
    "\n",
    "Hello\n",
    "\n",
    "예시\n",
    "print(\"Hello\") \n",
    "\n",
    "참고\n",
    "python IDE 프로그램을 설치한 후,\n",
    "아래와 같은 소스 코드를 작성하고 실행시키면,\n",
    "지정한 \"문장\"이 출력(print)된다.\n",
    "print(\"문장\") "
   ]
  },
  {
   "cell_type": "code",
   "execution_count": 1,
   "id": "ee5834ae",
   "metadata": {},
   "outputs": [
    {
     "name": "stdout",
     "output_type": "stream",
     "text": [
      "hello\n"
     ]
    }
   ],
   "source": [
    "print(\"Hello\")"
   ]
  }
 ],
 "metadata": {
  "kernelspec": {
   "display_name": "Python 3 (ipykernel)",
   "language": "python",
   "name": "python3"
  },
  "language_info": {
   "codemirror_mode": {
    "name": "ipython",
    "version": 3
   },
   "file_extension": ".py",
   "mimetype": "text/x-python",
   "name": "python",
   "nbconvert_exporter": "python",
   "pygments_lexer": "ipython3",
   "version": "3.8.12"
  }
 },
 "nbformat": 4,
 "nbformat_minor": 5
}
