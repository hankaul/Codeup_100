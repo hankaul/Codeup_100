{
 "cells": [
  {
   "cell_type": "markdown",
   "id": "b17fa408",
   "metadata": {},
   "source": [
    "## 문제\n",
    "\n",
    "이번에는 줄을 바꿔 출력하는 출력문을 연습해보자.\n",
    "다음과 같이 줄을 바꿔 출력해야 한다.\n",
    "\n",
    "Hello\n",
    "\n",
    "World\n",
    "(두 줄에 걸쳐 줄을 바꿔 출력)\n",
    "\n",
    "예시 \n",
    "print(\"Hello\") \n",
    "print(\"World\")\n",
    "\n",
    "\n",
    "참고\n",
    "python의 기본 print( ) 를 이용해 출력하면 문장을 출력한 후 마지막에 줄을 바꾼다.(new line)\n",
    "출력 후 줄을 바꾸는 대신 스페이스( ) 공백을 붙이도록 설정하는 방법도 있다."
   ]
  },
  {
   "cell_type": "code",
   "execution_count": 1,
   "id": "0a9592e9",
   "metadata": {
    "scrolled": true
   },
   "outputs": [
    {
     "name": "stdout",
     "output_type": "stream",
     "text": [
      "Hello\n",
      "World\n"
     ]
    }
   ],
   "source": [
    "print(\"Hello\")\n",
    "print(\"World\")"
   ]
  },
  {
   "cell_type": "code",
   "execution_count": 2,
   "id": "dbe64bd1",
   "metadata": {
    "scrolled": true
   },
   "outputs": [
    {
     "name": "stdout",
     "output_type": "stream",
     "text": [
      "Hello\n",
      "World\n"
     ]
    }
   ],
   "source": [
    "print(\"Hello\\nWorld\")"
   ]
  }
 ],
 "metadata": {
  "kernelspec": {
   "display_name": "Python 3 (ipykernel)",
   "language": "python",
   "name": "python3"
  },
  "language_info": {
   "codemirror_mode": {
    "name": "ipython",
    "version": 3
   },
   "file_extension": ".py",
   "mimetype": "text/x-python",
   "name": "python",
   "nbconvert_exporter": "python",
   "pygments_lexer": "ipython3",
   "version": "3.8.12"
  }
 },
 "nbformat": 4,
 "nbformat_minor": 5
}
